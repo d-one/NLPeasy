{
 "cells": [
  {
   "cell_type": "markdown",
   "metadata": {},
   "source": [
    "# NLPeasy Demonstration"
   ]
  },
  {
   "cell_type": "markdown",
   "metadata": {},
   "source": [
    "> Harness your textual data!\n",
    "\n",
    "In this demo you will use NLPEasy to quickly setup a Pandas-based pipeline, enhanced with ML-Methods and pre-trained models (e.g. word embeddings, sentiment analysis). The results will then be saved in Elasticsearch and a Kibana dashboard is generated automatically to explore the texts and results."
   ]
  },
  {
   "cell_type": "markdown",
   "metadata": {},
   "source": [
    "## Installation"
   ]
  },
  {
   "cell_type": "markdown",
   "metadata": {},
   "source": [
    "For this example to completely work you need to have Python at least in Version 3.6 installed.\n",
    "Also you need to have install and start either\n",
    "\n",
    "- **Docker** <https://www.docker.com/get-started>, direct download links for\n",
    "    [Mac (DMG)](https://download.docker.com/mac/stable/Docker.dmg) and\n",
    "    [Windows (exe)](https://download.docker.com/win/stable/Docker%20for%20Windows%20Installer.exe).\n",
    "- **Elasticsearch** and **Kibana**:\n",
    "<https://www.elastic.co/downloads/> or\n",
    "<https://www.elastic.co/downloads/elasticsearch-oss> (pure Apache licensed version)"
   ]
  },
  {
   "cell_type": "markdown",
   "metadata": {},
   "source": [
    "Then either on the terminal or inside this notebook issue:"
   ]
  },
  {
   "cell_type": "raw",
   "metadata": {},
   "source": [
    "!pip install nlpeasy scikit-learn matplotlib\n",
    "!python -m spacy download en_core_web_md"
   ]
  },
  {
   "cell_type": "markdown",
   "metadata": {},
   "source": [
    "The package `scikit-learn` is just used in this example to get the newsgroups data and preprocess it.\n",
    "The last command downloads a spacy model for the english language -\n",
    "for the following you need to have at least it's `md` (=medium) version which has wordvectors."
   ]
  },
  {
   "cell_type": "markdown",
   "metadata": {},
   "source": [
    "## Imports"
   ]
  },
  {
   "cell_type": "code",
   "execution_count": 1,
   "metadata": {},
   "outputs": [],
   "source": [
    "import pandas as pd\n",
    "import nlpeasy as ne"
   ]
  },
  {
   "cell_type": "markdown",
   "metadata": {},
   "source": [
    "For this example we will use the Newsgroups data from scikit-learn, and also clustering algorithms, as well as matplotlib for plotting.\n",
    "So you might wanna install these as well:"
   ]
  },
  {
   "cell_type": "code",
   "execution_count": 2,
   "metadata": {},
   "outputs": [],
   "source": [
    "import numpy as np\n",
    "from sklearn.datasets import fetch_20newsgroups\n",
    "from scipy.cluster.hierarchy import dendrogram, linkage\n",
    "import matplotlib.pyplot as plt\n",
    "%matplotlib inline"
   ]
  },
  {
   "cell_type": "markdown",
   "metadata": {},
   "source": [
    "## Connect to Elastic Stack"
   ]
  },
  {
   "cell_type": "markdown",
   "metadata": {},
   "source": [
    "Connect to running elastic or else start an Open Source stack on your docker"
   ]
  },
  {
   "cell_type": "code",
   "execution_count": 3,
   "metadata": {},
   "outputs": [
    {
     "data": {
      "text/plain": [
       "'No elasticsearch on localhost:9200 found, trying connect to docker container with prefix nlp'"
      ]
     },
     "metadata": {},
     "output_type": "display_data"
    },
    {
     "data": {
      "text/plain": [
       "'No docker container with prefix nlp; starting one'"
      ]
     },
     "metadata": {},
     "output_type": "display_data"
    },
    {
     "data": {
      "text/html": [
       "ElasticSearch on <a href='http://localhost:32784'>http://localhost:32784</a> <br> Kibana on <a href='http://localhost:32785'>http://localhost:32785</a>"
      ],
      "text/plain": [
       "ElasticSearch on http://localhost:32784\n",
       "Kibana on http://localhost:32785"
      ]
     },
     "metadata": {},
     "output_type": "display_data"
    }
   ],
   "source": [
    "elk = ne.connect_elastic(docker_prefix='nlp', elk_version='7.4.0',\n",
    "                         mount_volume_prefix=None)"
   ]
  },
  {
   "cell_type": "markdown",
   "metadata": {},
   "source": [
    "> If it is started on docker it will on the first time pull the images (1.3GB)!\n",
    "BTW, this function is not blocking, i.e. the servers might only be active couple of seconds later.\n",
    "Setting mountVolumePrefix=\"./elastic-data/\" would keep the data of elastic in your\n",
    "filesystems and then the data survives container restarts"
   ]
  },
  {
   "cell_type": "markdown",
   "metadata": {},
   "source": [
    "## Read and Process Data"
   ]
  },
  {
   "cell_type": "markdown",
   "metadata": {},
   "source": [
    "Read data as Pandas data frame. For this simple example we remove all additional newsgroups infos - it would be interesting to investigate that though..."
   ]
  },
  {
   "cell_type": "code",
   "execution_count": 4,
   "metadata": {},
   "outputs": [
    {
     "name": "stdout",
     "output_type": "stream",
     "text": [
      "(11314, 2)\n"
     ]
    },
    {
     "data": {
      "text/html": [
       "<div>\n",
       "<style scoped>\n",
       "    .dataframe tbody tr th:only-of-type {\n",
       "        vertical-align: middle;\n",
       "    }\n",
       "\n",
       "    .dataframe tbody tr th {\n",
       "        vertical-align: top;\n",
       "    }\n",
       "\n",
       "    .dataframe thead th {\n",
       "        text-align: right;\n",
       "    }\n",
       "</style>\n",
       "<table border=\"1\" class=\"dataframe\">\n",
       "  <thead>\n",
       "    <tr style=\"text-align: right;\">\n",
       "      <th></th>\n",
       "      <th>newsgroup</th>\n",
       "      <th>message</th>\n",
       "    </tr>\n",
       "  </thead>\n",
       "  <tbody>\n",
       "    <tr>\n",
       "      <th>0</th>\n",
       "      <td>rec.autos</td>\n",
       "      <td>I was wondering if anyone out there could enli...</td>\n",
       "    </tr>\n",
       "    <tr>\n",
       "      <th>1</th>\n",
       "      <td>comp.sys.mac.hardware</td>\n",
       "      <td>A fair number of brave souls who upgraded thei...</td>\n",
       "    </tr>\n",
       "    <tr>\n",
       "      <th>2</th>\n",
       "      <td>comp.sys.mac.hardware</td>\n",
       "      <td>well folks, my mac plus finally gave up the gh...</td>\n",
       "    </tr>\n",
       "    <tr>\n",
       "      <th>3</th>\n",
       "      <td>comp.graphics</td>\n",
       "      <td>\\nDo you have Weitek's address/phone number?  ...</td>\n",
       "    </tr>\n",
       "    <tr>\n",
       "      <th>4</th>\n",
       "      <td>sci.space</td>\n",
       "      <td>From article &lt;C5owCB.n3p@world.std.com&gt;, by to...</td>\n",
       "    </tr>\n",
       "  </tbody>\n",
       "</table>\n",
       "</div>"
      ],
      "text/plain": [
       "               newsgroup                                            message\n",
       "0              rec.autos  I was wondering if anyone out there could enli...\n",
       "1  comp.sys.mac.hardware  A fair number of brave souls who upgraded thei...\n",
       "2  comp.sys.mac.hardware  well folks, my mac plus finally gave up the gh...\n",
       "3          comp.graphics  \\nDo you have Weitek's address/phone number?  ...\n",
       "4              sci.space  From article <C5owCB.n3p@world.std.com>, by to..."
      ]
     },
     "execution_count": 4,
     "metadata": {},
     "output_type": "execute_result"
    }
   ],
   "source": [
    "news_raw = fetch_20newsgroups(remove=('headers', 'footers', 'quotes'))\n",
    "news_groups = [news_raw['target_names'][i] for i in news_raw['target']]\n",
    "news = pd.DataFrame({'newsgroup': news_groups, 'message': news_raw['data']})\n",
    "print(news.shape)\n",
    "news.head()"
   ]
  },
  {
   "cell_type": "markdown",
   "metadata": {},
   "source": [
    "Now we create a NLPeasy-Pipeline object:"
   ]
  },
  {
   "cell_type": "code",
   "execution_count": 5,
   "metadata": {},
   "outputs": [],
   "source": [
    "pipeline = ne.Pipeline(index='news',\n",
    "                       text_cols=['message'], tag_cols=['group'],\n",
    "                       elk=elk)"
   ]
  },
  {
   "cell_type": "markdown",
   "metadata": {},
   "source": [
    "The parameters here have some meening:\n",
    "* `index` will be the name of the Elasticsearch index (something like a Database name).\n",
    "* `textCols` here you can specify which columns of the dataframe are textual.\n",
    "* `tagCols` will be used for barplots in Kibana.\n",
    "* `elk` is the Elastic stack we connected to above."
   ]
  },
  {
   "cell_type": "markdown",
   "metadata": {},
   "source": [
    "Now let's add 2 stages in the pipeline - the spacy model takes ~30 secs to load."
   ]
  },
  {
   "cell_type": "code",
   "execution_count": 6,
   "metadata": {},
   "outputs": [],
   "source": [
    "pipeline += ne.VaderSentiment('message', 'sentiment')\n",
    "pipeline += ne.SpacyEnrichment(nlp='en_core_web_md', cols=['message'], vec=True)"
   ]
  },
  {
   "cell_type": "markdown",
   "metadata": {},
   "source": [
    "NLPeasy pipelines can hava as few or as many stages as you wish. Here we just use the following:\n",
    "* `VaderSentiment` is a nice rule-based sentiment prediction for english.\n",
    "* `Spacy` uses the `spacy` package together with it's language model - here the english medium (=md). We use it for a couple of enrichments, as you will see below. Please try to add your own ones! Here we activated `vec=True` (default is `False`) in order to use the Spacy-WordEmbeddings later for clustering.\n",
    "\n",
    "There are more stages in NLPeasy you can use (e.g. RegexTag Extraction, Splitting) or you can define your own functions there."
   ]
  },
  {
   "cell_type": "markdown",
   "metadata": {},
   "source": [
    "Run the pipeline - Spacy needs some time to process, so these ~11000 messages take about 10 minutes to process."
   ]
  },
  {
   "cell_type": "code",
   "execution_count": 7,
   "metadata": {},
   "outputs": [
    {
     "name": "stdout",
     "output_type": "stream",
     "text": [
      "11314/11314 [==============================] - 8:12 44ms/step\n"
     ]
    }
   ],
   "source": [
    "news_enriched = pipeline.process(news, write_elastic=True)"
   ]
  },
  {
   "cell_type": "markdown",
   "metadata": {},
   "source": [
    "Create Kibana Dashboard of all the columns"
   ]
  },
  {
   "cell_type": "code",
   "execution_count": 8,
   "metadata": {},
   "outputs": [
    {
     "name": "stdout",
     "output_type": "stream",
     "text": [
      "Trying to do a histogram on str values: -1.0 - 1.0\n",
      "news: adding index-pattern\n",
      "news: setting default index-pattern\n",
      "news: adding search\n",
      "news: adding visualisation for group\n",
      "news: adding visualisation for message_ents\n",
      "news: adding visualisation for message_subj\n",
      "news: adding visualisation for message_verb\n",
      "news: adding visualisation for message\n",
      "news: adding visualisation for sentiment\n",
      "news: adding dashboard\n",
      "news: setting time defaults\n"
     ]
    }
   ],
   "source": [
    "pipeline.create_kibana_dashboard()"
   ]
  },
  {
   "cell_type": "markdown",
   "metadata": {},
   "source": [
    "Open Kibana in webbrowser"
   ]
  },
  {
   "cell_type": "code",
   "execution_count": 9,
   "metadata": {},
   "outputs": [],
   "source": [
    "elk.show_kibana()"
   ]
  },
  {
   "cell_type": "markdown",
   "metadata": {},
   "source": [
    "It should look like the following:"
   ]
  },
  {
   "cell_type": "markdown",
   "metadata": {},
   "source": [
    "![Kibana Screenshot](demo_kibana.png)"
   ]
  },
  {
   "cell_type": "markdown",
   "metadata": {},
   "source": [
    "## Analysing the Enrichments"
   ]
  },
  {
   "cell_type": "markdown",
   "metadata": {},
   "source": [
    "You can either explore some of the enrichments in Kibana, or in the below (transposed) head. Here are some pointers:\n",
    "* `sentiment` comes from the VaderSentiment Stage and is a float.\n",
    "* The `SpacyEnrichment` stage added many columens for the `message`, hence they are prefixed by `message_*`.\n",
    "* As we added above `vec=True` we have both a `message_vec` and `message_vec_normalized` column. Please look below for an example clustering of those.\n",
    "* `message_ents` is a list of all the entities recognised by Spacy's Named Entity Recognition (NER). These can be in different classes (PERSON, PRODUCT, ORG, etc.) that appear in the various `message_entity_*` columens.\n",
    "* `message_wc` and `message_num_*` give various statistics: WordCount (wc), as well as count by different parts of speech (POS).\n",
    "* Finally `message_subj` and `message_verb` give you the list of subjects and verbs, resp. in all the sentences of the message. This is based on Spacy's Dependency Parsing."
   ]
  },
  {
   "cell_type": "code",
   "execution_count": 10,
   "metadata": {},
   "outputs": [
    {
     "data": {
      "text/html": [
       "<div>\n",
       "<style scoped>\n",
       "    .dataframe tbody tr th:only-of-type {\n",
       "        vertical-align: middle;\n",
       "    }\n",
       "\n",
       "    .dataframe tbody tr th {\n",
       "        vertical-align: top;\n",
       "    }\n",
       "\n",
       "    .dataframe thead th {\n",
       "        text-align: right;\n",
       "    }\n",
       "</style>\n",
       "<table border=\"1\" class=\"dataframe\">\n",
       "  <thead>\n",
       "    <tr style=\"text-align: right;\">\n",
       "      <th></th>\n",
       "      <th>0</th>\n",
       "      <th>1</th>\n",
       "      <th>2</th>\n",
       "      <th>3</th>\n",
       "      <th>4</th>\n",
       "    </tr>\n",
       "  </thead>\n",
       "  <tbody>\n",
       "    <tr>\n",
       "      <th>newsgroup</th>\n",
       "      <td>rec.autos</td>\n",
       "      <td>comp.sys.mac.hardware</td>\n",
       "      <td>comp.sys.mac.hardware</td>\n",
       "      <td>comp.graphics</td>\n",
       "      <td>sci.space</td>\n",
       "    </tr>\n",
       "    <tr>\n",
       "      <th>message</th>\n",
       "      <td>I was wondering if anyone out there could enli...</td>\n",
       "      <td>A fair number of brave souls who upgraded thei...</td>\n",
       "      <td>well folks, my mac plus finally gave up the gh...</td>\n",
       "      <td>\\nDo you have Weitek's address/phone number?  ...</td>\n",
       "      <td>From article &lt;C5owCB.n3p@world.std.com&gt;, by to...</td>\n",
       "    </tr>\n",
       "    <tr>\n",
       "      <th>sentiment</th>\n",
       "      <td>0.6249</td>\n",
       "      <td>0.9468</td>\n",
       "      <td>0.9761</td>\n",
       "      <td>0.4215</td>\n",
       "      <td>-0.802</td>\n",
       "    </tr>\n",
       "    <tr>\n",
       "      <th>message_wc</th>\n",
       "      <td>114</td>\n",
       "      <td>109</td>\n",
       "      <td>391</td>\n",
       "      <td>25</td>\n",
       "      <td>97</td>\n",
       "    </tr>\n",
       "    <tr>\n",
       "      <th>message_entity_DATE</th>\n",
       "      <td>[the other day, early 70s, years]</td>\n",
       "      <td>[the next two days]</td>\n",
       "      <td>[this weekend, 1985, day]</td>\n",
       "      <td>NaN</td>\n",
       "      <td>NaN</td>\n",
       "    </tr>\n",
       "    <tr>\n",
       "      <th>message_ents</th>\n",
       "      <td>[the other day, early 70s, Bricklin, years]</td>\n",
       "      <td>[SI, hour, 800 and 1.4 m, the next two days]</td>\n",
       "      <td>[mac, this weekend, 512k, 1985, 160, 180, powe...</td>\n",
       "      <td>[Weitek]</td>\n",
       "      <td>[Tom A Baker, 213]</td>\n",
       "    </tr>\n",
       "    <tr>\n",
       "      <th>message_entity_PERSON</th>\n",
       "      <td>[Bricklin]</td>\n",
       "      <td>NaN</td>\n",
       "      <td>[Tom Willis  ]</td>\n",
       "      <td>[Weitek]</td>\n",
       "      <td>[Tom A Baker]</td>\n",
       "    </tr>\n",
       "    <tr>\n",
       "      <th>message_subj</th>\n",
       "      <td>[-PRON-, anyone, -PRON-, -PRON-, door, bumper,...</td>\n",
       "      <td>[number, who, speed, CPU, -PRON-, -PRON-]</td>\n",
       "      <td>[-PRON-, i, -PRON-, somebody, anybody, -PRON-,...</td>\n",
       "      <td>[-PRON-, -PRON-]</td>\n",
       "      <td>[understanding, error, that, -PRON-, -PRON-]</td>\n",
       "    </tr>\n",
       "    <tr>\n",
       "      <th>message_verb</th>\n",
       "      <td>[wonder, could, enlighten, see, look, call, kn...</td>\n",
       "      <td>[upgrade, share, send, detail, attain, rate, a...</td>\n",
       "      <td>[give, start, intend, look, pick, can, answer,...</td>\n",
       "      <td>[would, like]</td>\n",
       "      <td>[expect, know, check, set, fix, introduce, tel...</td>\n",
       "    </tr>\n",
       "    <tr>\n",
       "      <th>message_num_PRON</th>\n",
       "      <td>10</td>\n",
       "      <td>3</td>\n",
       "      <td>25</td>\n",
       "      <td>2</td>\n",
       "      <td>4</td>\n",
       "    </tr>\n",
       "    <tr>\n",
       "      <th>message_num_AUX</th>\n",
       "      <td>9</td>\n",
       "      <td>5</td>\n",
       "      <td>25</td>\n",
       "      <td>3</td>\n",
       "      <td>6</td>\n",
       "    </tr>\n",
       "    <tr>\n",
       "      <th>message_num_VERB</th>\n",
       "      <td>10</td>\n",
       "      <td>13</td>\n",
       "      <td>37</td>\n",
       "      <td>2</td>\n",
       "      <td>9</td>\n",
       "    </tr>\n",
       "    <tr>\n",
       "      <th>message_num_SCONJ</th>\n",
       "      <td>2</td>\n",
       "      <td>1</td>\n",
       "      <td>9</td>\n",
       "      <td>NaN</td>\n",
       "      <td>5</td>\n",
       "    </tr>\n",
       "    <tr>\n",
       "      <th>message_num_ADV</th>\n",
       "      <td>3</td>\n",
       "      <td>2</td>\n",
       "      <td>26</td>\n",
       "      <td>NaN</td>\n",
       "      <td>6</td>\n",
       "    </tr>\n",
       "    <tr>\n",
       "      <th>message_num_ADP</th>\n",
       "      <td>7</td>\n",
       "      <td>9</td>\n",
       "      <td>30</td>\n",
       "      <td>1</td>\n",
       "      <td>6</td>\n",
       "    </tr>\n",
       "    <tr>\n",
       "      <th>message_num_DET</th>\n",
       "      <td>15</td>\n",
       "      <td>11</td>\n",
       "      <td>46</td>\n",
       "      <td>2</td>\n",
       "      <td>8</td>\n",
       "    </tr>\n",
       "    <tr>\n",
       "      <th>message_num_NOUN</th>\n",
       "      <td>23</td>\n",
       "      <td>30</td>\n",
       "      <td>55</td>\n",
       "      <td>5</td>\n",
       "      <td>17</td>\n",
       "    </tr>\n",
       "    <tr>\n",
       "      <th>message_num_SPACE</th>\n",
       "      <td>6</td>\n",
       "      <td>7</td>\n",
       "      <td>36</td>\n",
       "      <td>4</td>\n",
       "      <td>6</td>\n",
       "    </tr>\n",
       "    <tr>\n",
       "      <th>message_num_ADJ</th>\n",
       "      <td>8</td>\n",
       "      <td>6</td>\n",
       "      <td>9</td>\n",
       "      <td>NaN</td>\n",
       "      <td>2</td>\n",
       "    </tr>\n",
       "    <tr>\n",
       "      <th>message_num_PUNCT</th>\n",
       "      <td>15</td>\n",
       "      <td>11</td>\n",
       "      <td>46</td>\n",
       "      <td>2</td>\n",
       "      <td>15</td>\n",
       "    </tr>\n",
       "    <tr>\n",
       "      <th>message_num_NUM</th>\n",
       "      <td>2</td>\n",
       "      <td>3</td>\n",
       "      <td>9</td>\n",
       "      <td>NaN</td>\n",
       "      <td>1</td>\n",
       "    </tr>\n",
       "    <tr>\n",
       "      <th>message_num_PART</th>\n",
       "      <td>1</td>\n",
       "      <td>1</td>\n",
       "      <td>6</td>\n",
       "      <td>2</td>\n",
       "      <td>2</td>\n",
       "    </tr>\n",
       "    <tr>\n",
       "      <th>message_num_PROPN</th>\n",
       "      <td>1</td>\n",
       "      <td>2</td>\n",
       "      <td>14</td>\n",
       "      <td>1</td>\n",
       "      <td>4</td>\n",
       "    </tr>\n",
       "    <tr>\n",
       "      <th>message_num_CCONJ</th>\n",
       "      <td>1</td>\n",
       "      <td>3</td>\n",
       "      <td>12</td>\n",
       "      <td>NaN</td>\n",
       "      <td>2</td>\n",
       "    </tr>\n",
       "    <tr>\n",
       "      <th>message_num_INTJ</th>\n",
       "      <td>1</td>\n",
       "      <td>2</td>\n",
       "      <td>5</td>\n",
       "      <td>NaN</td>\n",
       "      <td>1</td>\n",
       "    </tr>\n",
       "    <tr>\n",
       "      <th>message_vec</th>\n",
       "      <td>[0.04971916, 0.1982323, -0.14787818, -0.075412...</td>\n",
       "      <td>[-0.02478218, 0.14197558, -0.10181039, -0.0467...</td>\n",
       "      <td>[-0.010998083, 0.19071607, -0.15875438, -0.034...</td>\n",
       "      <td>[-0.014709559, 0.2328898, -0.17009905, -0.0079...</td>\n",
       "      <td>[-0.055819727, 0.1477996, -0.19232902, -0.0783...</td>\n",
       "    </tr>\n",
       "    <tr>\n",
       "      <th>message_vec_normalized</th>\n",
       "      <td>[0.016356915, 0.065215684, -0.048649877, -0.02...</td>\n",
       "      <td>[-0.008798471, 0.050405897, -0.03614596, -0.01...</td>\n",
       "      <td>[-0.003910893, 0.067818195, -0.05645269, -0.01...</td>\n",
       "      <td>[-0.0052305833, 0.082813464, -0.06048565, -0.0...</td>\n",
       "      <td>[-0.019747319, 0.052286994, -0.06804015, -0.02...</td>\n",
       "    </tr>\n",
       "    <tr>\n",
       "      <th>message_entity_ORG</th>\n",
       "      <td>NaN</td>\n",
       "      <td>[SI]</td>\n",
       "      <td>[mac, hellcats, Purdue Electrical Engineering]</td>\n",
       "      <td>NaN</td>\n",
       "      <td>NaN</td>\n",
       "    </tr>\n",
       "    <tr>\n",
       "      <th>message_entity_TIME</th>\n",
       "      <td>NaN</td>\n",
       "      <td>[hour]</td>\n",
       "      <td>NaN</td>\n",
       "      <td>NaN</td>\n",
       "      <td>NaN</td>\n",
       "    </tr>\n",
       "    <tr>\n",
       "      <th>message_entity_QUANTITY</th>\n",
       "      <td>NaN</td>\n",
       "      <td>[800 and 1.4 m]</td>\n",
       "      <td>NaN</td>\n",
       "      <td>NaN</td>\n",
       "      <td>NaN</td>\n",
       "    </tr>\n",
       "    <tr>\n",
       "      <th>message_entity_CARDINAL</th>\n",
       "      <td>NaN</td>\n",
       "      <td>NaN</td>\n",
       "      <td>[512k, 160, 180, 180, 180, 120, 160, 180]</td>\n",
       "      <td>NaN</td>\n",
       "      <td>[213]</td>\n",
       "    </tr>\n",
       "    <tr>\n",
       "      <th>message_entity_PRODUCT</th>\n",
       "      <td>NaN</td>\n",
       "      <td>NaN</td>\n",
       "      <td>[powerbook\\n, 185c]</td>\n",
       "      <td>NaN</td>\n",
       "      <td>NaN</td>\n",
       "    </tr>\n",
       "    <tr>\n",
       "      <th>message_entity_NORP</th>\n",
       "      <td>NaN</td>\n",
       "      <td>NaN</td>\n",
       "      <td>[macleak]</td>\n",
       "      <td>NaN</td>\n",
       "      <td>NaN</td>\n",
       "    </tr>\n",
       "    <tr>\n",
       "      <th>message_entity_LOC</th>\n",
       "      <td>NaN</td>\n",
       "      <td>NaN</td>\n",
       "      <td>[powerbook, the\\ncorner]</td>\n",
       "      <td>NaN</td>\n",
       "      <td>NaN</td>\n",
       "    </tr>\n",
       "    <tr>\n",
       "      <th>message_num_X</th>\n",
       "      <td>NaN</td>\n",
       "      <td>NaN</td>\n",
       "      <td>1</td>\n",
       "      <td>NaN</td>\n",
       "      <td>3</td>\n",
       "    </tr>\n",
       "    <tr>\n",
       "      <th>message_num_SYM</th>\n",
       "      <td>NaN</td>\n",
       "      <td>NaN</td>\n",
       "      <td>NaN</td>\n",
       "      <td>1</td>\n",
       "      <td>NaN</td>\n",
       "    </tr>\n",
       "    <tr>\n",
       "      <th>message_entity_ORDINAL</th>\n",
       "      <td>NaN</td>\n",
       "      <td>NaN</td>\n",
       "      <td>NaN</td>\n",
       "      <td>NaN</td>\n",
       "      <td>NaN</td>\n",
       "    </tr>\n",
       "    <tr>\n",
       "      <th>message_entity_GPE</th>\n",
       "      <td>NaN</td>\n",
       "      <td>NaN</td>\n",
       "      <td>NaN</td>\n",
       "      <td>NaN</td>\n",
       "      <td>NaN</td>\n",
       "    </tr>\n",
       "    <tr>\n",
       "      <th>message_entity_MONEY</th>\n",
       "      <td>NaN</td>\n",
       "      <td>NaN</td>\n",
       "      <td>NaN</td>\n",
       "      <td>NaN</td>\n",
       "      <td>NaN</td>\n",
       "    </tr>\n",
       "    <tr>\n",
       "      <th>message_entity_PERCENT</th>\n",
       "      <td>NaN</td>\n",
       "      <td>NaN</td>\n",
       "      <td>NaN</td>\n",
       "      <td>NaN</td>\n",
       "      <td>NaN</td>\n",
       "    </tr>\n",
       "    <tr>\n",
       "      <th>message_entity_WORK_OF_ART</th>\n",
       "      <td>NaN</td>\n",
       "      <td>NaN</td>\n",
       "      <td>NaN</td>\n",
       "      <td>NaN</td>\n",
       "      <td>NaN</td>\n",
       "    </tr>\n",
       "    <tr>\n",
       "      <th>message_entity_FAC</th>\n",
       "      <td>NaN</td>\n",
       "      <td>NaN</td>\n",
       "      <td>NaN</td>\n",
       "      <td>NaN</td>\n",
       "      <td>NaN</td>\n",
       "    </tr>\n",
       "    <tr>\n",
       "      <th>message_entity_EVENT</th>\n",
       "      <td>NaN</td>\n",
       "      <td>NaN</td>\n",
       "      <td>NaN</td>\n",
       "      <td>NaN</td>\n",
       "      <td>NaN</td>\n",
       "    </tr>\n",
       "    <tr>\n",
       "      <th>message_entity_LAW</th>\n",
       "      <td>NaN</td>\n",
       "      <td>NaN</td>\n",
       "      <td>NaN</td>\n",
       "      <td>NaN</td>\n",
       "      <td>NaN</td>\n",
       "    </tr>\n",
       "    <tr>\n",
       "      <th>message_entity_LANGUAGE</th>\n",
       "      <td>NaN</td>\n",
       "      <td>NaN</td>\n",
       "      <td>NaN</td>\n",
       "      <td>NaN</td>\n",
       "      <td>NaN</td>\n",
       "    </tr>\n",
       "  </tbody>\n",
       "</table>\n",
       "</div>"
      ],
      "text/plain": [
       "                                                                            0  \\\n",
       "newsgroup                                                           rec.autos   \n",
       "message                     I was wondering if anyone out there could enli...   \n",
       "sentiment                                                              0.6249   \n",
       "message_wc                                                                114   \n",
       "message_entity_DATE                         [the other day, early 70s, years]   \n",
       "message_ents                      [the other day, early 70s, Bricklin, years]   \n",
       "message_entity_PERSON                                              [Bricklin]   \n",
       "message_subj                [-PRON-, anyone, -PRON-, -PRON-, door, bumper,...   \n",
       "message_verb                [wonder, could, enlighten, see, look, call, kn...   \n",
       "message_num_PRON                                                           10   \n",
       "message_num_AUX                                                             9   \n",
       "message_num_VERB                                                           10   \n",
       "message_num_SCONJ                                                           2   \n",
       "message_num_ADV                                                             3   \n",
       "message_num_ADP                                                             7   \n",
       "message_num_DET                                                            15   \n",
       "message_num_NOUN                                                           23   \n",
       "message_num_SPACE                                                           6   \n",
       "message_num_ADJ                                                             8   \n",
       "message_num_PUNCT                                                          15   \n",
       "message_num_NUM                                                             2   \n",
       "message_num_PART                                                            1   \n",
       "message_num_PROPN                                                           1   \n",
       "message_num_CCONJ                                                           1   \n",
       "message_num_INTJ                                                            1   \n",
       "message_vec                 [0.04971916, 0.1982323, -0.14787818, -0.075412...   \n",
       "message_vec_normalized      [0.016356915, 0.065215684, -0.048649877, -0.02...   \n",
       "message_entity_ORG                                                        NaN   \n",
       "message_entity_TIME                                                       NaN   \n",
       "message_entity_QUANTITY                                                   NaN   \n",
       "message_entity_CARDINAL                                                   NaN   \n",
       "message_entity_PRODUCT                                                    NaN   \n",
       "message_entity_NORP                                                       NaN   \n",
       "message_entity_LOC                                                        NaN   \n",
       "message_num_X                                                             NaN   \n",
       "message_num_SYM                                                           NaN   \n",
       "message_entity_ORDINAL                                                    NaN   \n",
       "message_entity_GPE                                                        NaN   \n",
       "message_entity_MONEY                                                      NaN   \n",
       "message_entity_PERCENT                                                    NaN   \n",
       "message_entity_WORK_OF_ART                                                NaN   \n",
       "message_entity_FAC                                                        NaN   \n",
       "message_entity_EVENT                                                      NaN   \n",
       "message_entity_LAW                                                        NaN   \n",
       "message_entity_LANGUAGE                                                   NaN   \n",
       "\n",
       "                                                                            1  \\\n",
       "newsgroup                                               comp.sys.mac.hardware   \n",
       "message                     A fair number of brave souls who upgraded thei...   \n",
       "sentiment                                                              0.9468   \n",
       "message_wc                                                                109   \n",
       "message_entity_DATE                                       [the next two days]   \n",
       "message_ents                     [SI, hour, 800 and 1.4 m, the next two days]   \n",
       "message_entity_PERSON                                                     NaN   \n",
       "message_subj                        [number, who, speed, CPU, -PRON-, -PRON-]   \n",
       "message_verb                [upgrade, share, send, detail, attain, rate, a...   \n",
       "message_num_PRON                                                            3   \n",
       "message_num_AUX                                                             5   \n",
       "message_num_VERB                                                           13   \n",
       "message_num_SCONJ                                                           1   \n",
       "message_num_ADV                                                             2   \n",
       "message_num_ADP                                                             9   \n",
       "message_num_DET                                                            11   \n",
       "message_num_NOUN                                                           30   \n",
       "message_num_SPACE                                                           7   \n",
       "message_num_ADJ                                                             6   \n",
       "message_num_PUNCT                                                          11   \n",
       "message_num_NUM                                                             3   \n",
       "message_num_PART                                                            1   \n",
       "message_num_PROPN                                                           2   \n",
       "message_num_CCONJ                                                           3   \n",
       "message_num_INTJ                                                            2   \n",
       "message_vec                 [-0.02478218, 0.14197558, -0.10181039, -0.0467...   \n",
       "message_vec_normalized      [-0.008798471, 0.050405897, -0.03614596, -0.01...   \n",
       "message_entity_ORG                                                       [SI]   \n",
       "message_entity_TIME                                                    [hour]   \n",
       "message_entity_QUANTITY                                       [800 and 1.4 m]   \n",
       "message_entity_CARDINAL                                                   NaN   \n",
       "message_entity_PRODUCT                                                    NaN   \n",
       "message_entity_NORP                                                       NaN   \n",
       "message_entity_LOC                                                        NaN   \n",
       "message_num_X                                                             NaN   \n",
       "message_num_SYM                                                           NaN   \n",
       "message_entity_ORDINAL                                                    NaN   \n",
       "message_entity_GPE                                                        NaN   \n",
       "message_entity_MONEY                                                      NaN   \n",
       "message_entity_PERCENT                                                    NaN   \n",
       "message_entity_WORK_OF_ART                                                NaN   \n",
       "message_entity_FAC                                                        NaN   \n",
       "message_entity_EVENT                                                      NaN   \n",
       "message_entity_LAW                                                        NaN   \n",
       "message_entity_LANGUAGE                                                   NaN   \n",
       "\n",
       "                                                                            2  \\\n",
       "newsgroup                                               comp.sys.mac.hardware   \n",
       "message                     well folks, my mac plus finally gave up the gh...   \n",
       "sentiment                                                              0.9761   \n",
       "message_wc                                                                391   \n",
       "message_entity_DATE                                 [this weekend, 1985, day]   \n",
       "message_ents                [mac, this weekend, 512k, 1985, 160, 180, powe...   \n",
       "message_entity_PERSON                                          [Tom Willis  ]   \n",
       "message_subj                [-PRON-, i, -PRON-, somebody, anybody, -PRON-,...   \n",
       "message_verb                [give, start, intend, look, pick, can, answer,...   \n",
       "message_num_PRON                                                           25   \n",
       "message_num_AUX                                                            25   \n",
       "message_num_VERB                                                           37   \n",
       "message_num_SCONJ                                                           9   \n",
       "message_num_ADV                                                            26   \n",
       "message_num_ADP                                                            30   \n",
       "message_num_DET                                                            46   \n",
       "message_num_NOUN                                                           55   \n",
       "message_num_SPACE                                                          36   \n",
       "message_num_ADJ                                                             9   \n",
       "message_num_PUNCT                                                          46   \n",
       "message_num_NUM                                                             9   \n",
       "message_num_PART                                                            6   \n",
       "message_num_PROPN                                                          14   \n",
       "message_num_CCONJ                                                          12   \n",
       "message_num_INTJ                                                            5   \n",
       "message_vec                 [-0.010998083, 0.19071607, -0.15875438, -0.034...   \n",
       "message_vec_normalized      [-0.003910893, 0.067818195, -0.05645269, -0.01...   \n",
       "message_entity_ORG             [mac, hellcats, Purdue Electrical Engineering]   \n",
       "message_entity_TIME                                                       NaN   \n",
       "message_entity_QUANTITY                                                   NaN   \n",
       "message_entity_CARDINAL             [512k, 160, 180, 180, 180, 120, 160, 180]   \n",
       "message_entity_PRODUCT                                    [powerbook\\n, 185c]   \n",
       "message_entity_NORP                                                 [macleak]   \n",
       "message_entity_LOC                                   [powerbook, the\\ncorner]   \n",
       "message_num_X                                                               1   \n",
       "message_num_SYM                                                           NaN   \n",
       "message_entity_ORDINAL                                                    NaN   \n",
       "message_entity_GPE                                                        NaN   \n",
       "message_entity_MONEY                                                      NaN   \n",
       "message_entity_PERCENT                                                    NaN   \n",
       "message_entity_WORK_OF_ART                                                NaN   \n",
       "message_entity_FAC                                                        NaN   \n",
       "message_entity_EVENT                                                      NaN   \n",
       "message_entity_LAW                                                        NaN   \n",
       "message_entity_LANGUAGE                                                   NaN   \n",
       "\n",
       "                                                                            3  \\\n",
       "newsgroup                                                       comp.graphics   \n",
       "message                     \\nDo you have Weitek's address/phone number?  ...   \n",
       "sentiment                                                              0.4215   \n",
       "message_wc                                                                 25   \n",
       "message_entity_DATE                                                       NaN   \n",
       "message_ents                                                         [Weitek]   \n",
       "message_entity_PERSON                                                [Weitek]   \n",
       "message_subj                                                 [-PRON-, -PRON-]   \n",
       "message_verb                                                    [would, like]   \n",
       "message_num_PRON                                                            2   \n",
       "message_num_AUX                                                             3   \n",
       "message_num_VERB                                                            2   \n",
       "message_num_SCONJ                                                         NaN   \n",
       "message_num_ADV                                                           NaN   \n",
       "message_num_ADP                                                             1   \n",
       "message_num_DET                                                             2   \n",
       "message_num_NOUN                                                            5   \n",
       "message_num_SPACE                                                           4   \n",
       "message_num_ADJ                                                           NaN   \n",
       "message_num_PUNCT                                                           2   \n",
       "message_num_NUM                                                           NaN   \n",
       "message_num_PART                                                            2   \n",
       "message_num_PROPN                                                           1   \n",
       "message_num_CCONJ                                                         NaN   \n",
       "message_num_INTJ                                                          NaN   \n",
       "message_vec                 [-0.014709559, 0.2328898, -0.17009905, -0.0079...   \n",
       "message_vec_normalized      [-0.0052305833, 0.082813464, -0.06048565, -0.0...   \n",
       "message_entity_ORG                                                        NaN   \n",
       "message_entity_TIME                                                       NaN   \n",
       "message_entity_QUANTITY                                                   NaN   \n",
       "message_entity_CARDINAL                                                   NaN   \n",
       "message_entity_PRODUCT                                                    NaN   \n",
       "message_entity_NORP                                                       NaN   \n",
       "message_entity_LOC                                                        NaN   \n",
       "message_num_X                                                             NaN   \n",
       "message_num_SYM                                                             1   \n",
       "message_entity_ORDINAL                                                    NaN   \n",
       "message_entity_GPE                                                        NaN   \n",
       "message_entity_MONEY                                                      NaN   \n",
       "message_entity_PERCENT                                                    NaN   \n",
       "message_entity_WORK_OF_ART                                                NaN   \n",
       "message_entity_FAC                                                        NaN   \n",
       "message_entity_EVENT                                                      NaN   \n",
       "message_entity_LAW                                                        NaN   \n",
       "message_entity_LANGUAGE                                                   NaN   \n",
       "\n",
       "                                                                            4  \n",
       "newsgroup                                                           sci.space  \n",
       "message                     From article <C5owCB.n3p@world.std.com>, by to...  \n",
       "sentiment                                                              -0.802  \n",
       "message_wc                                                                 97  \n",
       "message_entity_DATE                                                       NaN  \n",
       "message_ents                                               [Tom A Baker, 213]  \n",
       "message_entity_PERSON                                           [Tom A Baker]  \n",
       "message_subj                     [understanding, error, that, -PRON-, -PRON-]  \n",
       "message_verb                [expect, know, check, set, fix, introduce, tel...  \n",
       "message_num_PRON                                                            4  \n",
       "message_num_AUX                                                             6  \n",
       "message_num_VERB                                                            9  \n",
       "message_num_SCONJ                                                           5  \n",
       "message_num_ADV                                                             6  \n",
       "message_num_ADP                                                             6  \n",
       "message_num_DET                                                             8  \n",
       "message_num_NOUN                                                           17  \n",
       "message_num_SPACE                                                           6  \n",
       "message_num_ADJ                                                             2  \n",
       "message_num_PUNCT                                                          15  \n",
       "message_num_NUM                                                             1  \n",
       "message_num_PART                                                            2  \n",
       "message_num_PROPN                                                           4  \n",
       "message_num_CCONJ                                                           2  \n",
       "message_num_INTJ                                                            1  \n",
       "message_vec                 [-0.055819727, 0.1477996, -0.19232902, -0.0783...  \n",
       "message_vec_normalized      [-0.019747319, 0.052286994, -0.06804015, -0.02...  \n",
       "message_entity_ORG                                                        NaN  \n",
       "message_entity_TIME                                                       NaN  \n",
       "message_entity_QUANTITY                                                   NaN  \n",
       "message_entity_CARDINAL                                                 [213]  \n",
       "message_entity_PRODUCT                                                    NaN  \n",
       "message_entity_NORP                                                       NaN  \n",
       "message_entity_LOC                                                        NaN  \n",
       "message_num_X                                                               3  \n",
       "message_num_SYM                                                           NaN  \n",
       "message_entity_ORDINAL                                                    NaN  \n",
       "message_entity_GPE                                                        NaN  \n",
       "message_entity_MONEY                                                      NaN  \n",
       "message_entity_PERCENT                                                    NaN  \n",
       "message_entity_WORK_OF_ART                                                NaN  \n",
       "message_entity_FAC                                                        NaN  \n",
       "message_entity_EVENT                                                      NaN  \n",
       "message_entity_LAW                                                        NaN  \n",
       "message_entity_LANGUAGE                                                   NaN  "
      ]
     },
     "execution_count": 10,
     "metadata": {},
     "output_type": "execute_result"
    }
   ],
   "source": [
    "news_enriched.head().T"
   ]
  },
  {
   "cell_type": "markdown",
   "metadata": {},
   "source": [
    "## Clustering the Newsgroups"
   ]
  },
  {
   "cell_type": "markdown",
   "metadata": {},
   "source": [
    "Let's have some fun outside of Elastic/Kibana, just by using spacy's word embeddings:"
   ]
  },
  {
   "cell_type": "code",
   "execution_count": 11,
   "metadata": {},
   "outputs": [],
   "source": [
    "#\n",
    "grouped = news_enriched.loc[~news_enriched.message_vec_normalized.isna()].groupby('newsgroup')\n",
    "group_vec = grouped.apply(lambda z: np.stack(z.message_vec_normalized.values).mean(axis=0))\n",
    "clust = linkage(np.stack(group_vec), 'ward')"
   ]
  },
  {
   "cell_type": "markdown",
   "metadata": {},
   "source": [
    "> *NOTE*: the word embeddings from spaCy's language models are not the best to use for such settings. If you intend to use Word Embeddings for this, please consider downloading: pretrained [FastText-Wordvectors](https://fasttext.cc/docs/en/pretrained-vectors.html) (each ~7GB)."
   ]
  },
  {
   "cell_type": "markdown",
   "metadata": {},
   "source": [
    "How does it look?"
   ]
  },
  {
   "cell_type": "code",
   "execution_count": 12,
   "metadata": {},
   "outputs": [
    {
     "data": {
      "image/png": "[encoded data removed]",
      "text/plain": [
       "<Figure size 720x720 with 1 Axes>"
      ]
     },
     "metadata": {
      "needs_background": "light"
     },
     "output_type": "display_data"
    }
   ],
   "source": [
    "plt.figure(figsize=(10, 10))\n",
    "plt.title('Hierarchical Clustering Dendrogram Newsgroups')\n",
    "plt.xlabel('sample index')\n",
    "plt.ylabel('distance')\n",
    "dendrogram(\n",
    "    clust,\n",
    "    leaf_rotation=0.,  # rotates the x axis labels\n",
    "    leaf_font_size=20.,  # font size for the x axis labels\n",
    "    labels=group_vec.index,\n",
    "    orientation='left'\n",
    ")\n",
    "plt.show()"
   ]
  },
  {
   "cell_type": "markdown",
   "metadata": {},
   "source": [
    "This already looks quite nice - how would it look with the FastText-Vectors...?"
   ]
  },
  {
   "cell_type": "markdown",
   "metadata": {},
   "source": [
    "## Shutdown"
   ]
  },
  {
   "cell_type": "markdown",
   "metadata": {},
   "source": [
    "If elastic was started on Docker and you want to shutdown the servers issue:"
   ]
  },
  {
   "cell_type": "raw",
   "metadata": {},
   "source": [
    "ne.docker.stop_elastic_on_docker(\"nlp\")"
   ]
  },
  {
   "cell_type": "markdown",
   "metadata": {},
   "source": [
    "> *Warning*: If you didn't use a mountVolumePrefix when you started the servers, all the data in elastic and kibana will be lost!"
   ]
  },
  {
   "cell_type": "code",
   "execution_count": null,
   "metadata": {},
   "outputs": [],
   "source": []
  }
 ],
 "metadata": {
  "kernelspec": {
   "display_name": "Python 3",
   "language": "python",
   "name": "python3"
  },
  "language_info": {
   "codemirror_mode": {
    "name": "ipython",
    "version": 3
   },
   "file_extension": ".py",
   "mimetype": "text/x-python",
   "name": "python",
   "nbconvert_exporter": "python",
   "pygments_lexer": "ipython3",
   "version": "3.7.5"
  }
 },
 "nbformat": 4,
 "nbformat_minor": 4
}
